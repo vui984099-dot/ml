# Setup - Add src to path
import sys
import os
from pathlib import Path

# Add src directory to Python path
src_path = Path.cwd().parent / "src"
sys.path.insert(0, str(src_path))

print(f"Added to path: {src_path}")
print(f"Current working directory: {Path.cwd()}")# Amazon Product Q&A System - Demo Walkthrough

This notebook demonstrates the key features of the Amazon Product Q&A and Recommendation System.

## System Overview

The system provides:
- **Grounded Q&A**: Answer questions with citations from reviews
- **Product Search**: Vector-based similarity search
- **Recommendations**: Multiple recommendation strategies
- **Product Comparison**: Side-by-side analysis
- **CTR Modeling**: Click prediction for ranking optimization